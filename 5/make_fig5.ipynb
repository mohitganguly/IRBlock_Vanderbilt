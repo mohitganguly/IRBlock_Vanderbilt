{
 "cells": [
  {
   "cell_type": "code",
   "execution_count": null,
   "metadata": {
    "collapsed": true
   },
   "outputs": [],
   "source": [
    "#matplotlib inline \n",
    "\n",
    "import numpy as np\n",
    "\n",
    "import matplotlib.pyplot as plt\n",
    "\n",
    "import matplotlib as mpl\n",
    "\n",
    "\n",
    "v_prox_cont = np.genfromtxt('v_prox_cont.txt', delimiter = ',')\n",
    "v_end_cont = np.genfromtxt('v_end_cont.txt', delimiter = ',')\n",
    "time = np.genfromtxt('time.txt', delimiter = ',')\n",
    "\n",
    "\n",
    "plt.plot(time, v_prox_cont, lw = 2)\n",
    "plt.plot(time, v_end_cont, lw = 2, linestyle = '--')\n",
    "plt.xlim(250, 400)\n",
    "\n",
    "\n",
    "\n",
    "plt.show()\n",
    "\n",
    "plt.plot(time, v_end_cont, lw = 5, color = 'green',linestyle = '--')\n",
    "plt.xlim(255, 275)\n",
    "plt.ylim(-67.60, -67.55)\n",
    "plt.xticks([])\n",
    "plt.yticks([])\n",
    "\n",
    "plt.show()\n",
    "\n",
    "\n",
    "\n",
    "\n",
    "\n",
    "\n",
    "v_prox_pulse = np.genfromtxt('v_prox_pulse.txt', delimiter = ',')\n",
    "v_end_pulse = np.genfromtxt('v_end_pulse.txt', delimiter = ',')\n",
    "time = np.genfromtxt('time.txt', delimiter = ',')\n",
    "\n",
    "\n",
    "plt.plot(time, v_prox_pulse, lw = 2)\n",
    "plt.plot(time, v_end_pulse, lw = 2, linestyle = '--')\n",
    "plt.xlim(250, 400)\n",
    "\n",
    "plt.show()\n"
   ]
  },
  {
   "cell_type": "code",
   "execution_count": null,
   "metadata": {
    "collapsed": true
   },
   "outputs": [],
   "source": []
  }
 ],
 "metadata": {
  "kernelspec": {
   "display_name": "Python 2",
   "language": "python",
   "name": "python2"
  },
  "language_info": {
   "codemirror_mode": {
    "name": "ipython",
    "version": 2
   },
   "file_extension": ".py",
   "mimetype": "text/x-python",
   "name": "python",
   "nbconvert_exporter": "python",
   "pygments_lexer": "ipython2",
   "version": "2.7.6"
  }
 },
 "nbformat": 4,
 "nbformat_minor": 0
}
