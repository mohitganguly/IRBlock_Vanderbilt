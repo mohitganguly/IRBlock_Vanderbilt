{
 "cells": [
  {
   "cell_type": "code",
   "execution_count": 3,
   "metadata": {},
   "outputs": [
    {
     "data": {
      "image/png": "[encoded data removed]",
      "text/plain": [
       "<Figure size 432x288 with 4 Axes>"
      ]
     },
     "metadata": {},
     "output_type": "display_data"
    }
   ],
   "source": [
    "%matplotlib inline \n",
    "import numpy as np\n",
    "import matplotlib.pyplot as plt\n",
    "\n",
    "t = np.genfromtxt('/home/jovyan/4/mHH/time.csv', delimiter = ',')\n",
    "v_c_hot = np.genfromtxt('/home/jovyan/4/mHH/v_c_hot_mHHdclamp.csv', delimiter = ',')\n",
    "v_c_cold = np.genfromtxt('/home/jovyan/4/mHH/v_c_cold_mHHdclamp.csv', delimiter = ',')\n",
    "\n",
    "v_e_hot = np.genfromtxt('/home/jovyan/4/mHH/v_e_hot_mHHdclamp.csv', delimiter = ',')\n",
    "v_e_cold = np.genfromtxt('/home/jovyan/4/mHH/v_e_cold_mHHdclamp.csv', delimiter = ',')\n",
    "\n",
    "v_g_hot = np.genfromtxt('/home/jovyan/4/mHH/v_g_hot_mHHdclamp.csv', delimiter = ',')\n",
    "v_g_cold = np.genfromtxt('/home/jovyan/4/mHH/v_g_cold_mHHdclamp.csv', delimiter = ',')\n",
    "\n",
    "v_i_hot = np.genfromtxt('/home/jovyan/4/mHH/v_i_hot_mHHdclamp.csv', delimiter = ',')\n",
    "v_i_cold = np.genfromtxt('/home/jovyan/4/mHH/v_i_cold_mHHdclamp.csv', delimiter = ',')\n",
    "\n",
    "\n",
    "\n",
    "#plt.legend()\n",
    "plt.xlim(0,20)\n",
    "\n",
    "#plt.savefig('fig.jpeg', format = 'jpeg', dpi = 600, bbox_inches = 'tight')\n",
    "#plt.show()\n",
    "\n",
    "ax = plt.subplot(4, 1, 1)\n",
    "plt.plot(t, v_c_hot, lw = 2, linestyle = ':', color = 'indianred')\n",
    "plt.plot(t, v_c_cold, lw = 1, color = 'blue')\n",
    "plt.xlim(100, 120)\n",
    "plt.ylim(-80, 60)\n",
    "ax.set_yticklabels([])\n",
    "ax.set_yticks([])\n",
    "ax.set_xticklabels([])\n",
    "ax.set_xticks([])\n",
    "x0,x1 = ax.get_xlim()\n",
    "y0,y1 = ax.get_ylim()\n",
    "ax.set_aspect(abs(x1-x0)/abs(y1-y0))\n",
    "\n",
    "ax = plt.subplot(4, 1, 2)\n",
    "plt.plot(t, v_e_hot, lw = 2, linestyle = ':', color = 'indianred')\n",
    "plt.plot(t, v_e_cold, lw = 1, color = 'blue')\n",
    "plt.xlim(100, 120)\n",
    "plt.ylim(-80, 60)\n",
    "ax.set_yticklabels([])\n",
    "ax.set_yticks([])\n",
    "ax.set_xticklabels([])\n",
    "ax.set_xticks([])\n",
    "x0,x1 = ax.get_xlim()\n",
    "y0,y1 = ax.get_ylim()\n",
    "ax.set_aspect(abs(x1-x0)/abs(y1-y0))\n",
    "\n",
    "ax = plt.subplot(4, 1, 3)\n",
    "plt.plot(t, v_g_hot, lw = 2, linestyle = ':', color = 'indianred')\n",
    "plt.plot(t, v_g_cold, lw = 1, color = 'blue')\n",
    "plt.xlim(100, 120)\n",
    "plt.ylim(-80, 60)\n",
    "ax.set_yticklabels([])\n",
    "ax.set_yticks([])\n",
    "ax.set_xticklabels([])\n",
    "ax.set_xticks([])\n",
    "x0,x1 = ax.get_xlim()\n",
    "y0,y1 = ax.get_ylim()\n",
    "ax.set_aspect(abs(x1-x0)/abs(y1-y0))\n",
    "\n",
    "ax = plt.subplot(4, 1, 4)\n",
    "plt.plot(t, v_i_hot, lw = 2, linestyle = ':', color = 'indianred')\n",
    "plt.plot(t, v_i_cold, lw = 1, color = 'blue')\n",
    "\n",
    "plt.xlim(100, 120)\n",
    "plt.ylim(-80, 60)\n",
    "ax.set_yticklabels([])\n",
    "ax.set_yticks([])\n",
    "ax.set_xticklabels([])\n",
    "ax.set_xticks([])\n",
    "x0,x1 = ax.get_xlim()\n",
    "y0,y1 = ax.get_ylim()\n",
    "ax.set_aspect(abs(x1-x0)/abs(y1-y0))\n",
    "\n",
    "plt.savefig('fig_right.png', format = 'png', dpi = 600, bbox_inches = 'tight')\n",
    "plt.show()\n"
   ]
  },
  {
   "cell_type": "code",
   "execution_count": 2,
   "metadata": {},
   "outputs": [
    {
     "data": {
      "text/plain": [
       "'/home/jovyan/4/mHH'"
      ]
     },
     "execution_count": 2,
     "metadata": {},
     "output_type": "execute_result"
    }
   ],
   "source": [
    "pwd"
   ]
  },
  {
   "cell_type": "code",
   "execution_count": null,
   "metadata": {},
   "outputs": [],
   "source": []
  }
 ],
 "metadata": {
  "kernelspec": {
   "display_name": "Python 3",
   "language": "python",
   "name": "python3"
  },
  "language_info": {
   "codemirror_mode": {
    "name": "ipython",
    "version": 3
   },
   "file_extension": ".py",
   "mimetype": "text/x-python",
   "name": "python",
   "nbconvert_exporter": "python",
   "pygments_lexer": "ipython3",
   "version": "3.7.3"
  }
 },
 "nbformat": 4,
 "nbformat_minor": 2
}
