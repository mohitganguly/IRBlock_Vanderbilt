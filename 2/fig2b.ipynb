{
 "cells": [
  {
   "cell_type": "code",
   "execution_count": null,
   "metadata": {
    "collapsed": true
   },
   "outputs": [],
   "source": [
    "from __future__ import division\n",
    "#from neuron import h\n",
    "import numpy as np\n",
    "import matplotlib\n",
    "import matplotlib.pyplot as plt\n",
    "import matplotlib.collections as mcoll\n",
    "import matplotlib.path as mpath\n",
    "import matplotlib.cm as cm\n",
    "from matplotlib.collections import LineCollection\n",
    "from matplotlib.colors import ListedColormap, BoundaryNorm\n",
    "\n",
    "\n",
    "\n",
    "temp_x=np.genfromtxt('temp_x.csv',delimiter=',')\n",
    "\n",
    "#frame  plt.gca()\n",
    "plt.xticks([])\n",
    "plt.yticks([])\n",
    "\n",
    "plt.plot(range(3750),temp_x[:3750], lw = 3, color = 'k')\n",
    "plt.plot(range(3751,7499),temp_x[3751:7499], lw = 3, color = 'k')\n",
    "\n",
    "plt.xlim(0, 7499)\n",
    "plt.ylim(0, 30)\n",
    "\n",
    "#plt.savefig('temp_x.png', dpi = 600, format = 'png', bbox_inches = 'tight')\n",
    "plt.show()"
   ]
  }
 ],
 "metadata": {
  "kernelspec": {
   "display_name": "Python 2",
   "language": "python",
   "name": "python2"
  },
  "language_info": {
   "codemirror_mode": {
    "name": "ipython",
    "version": 2
   },
   "file_extension": ".py",
   "mimetype": "text/x-python",
   "name": "python",
   "nbconvert_exporter": "python",
   "pygments_lexer": "ipython2",
   "version": "2.7.6"
  }
 },
 "nbformat": 4,
 "nbformat_minor": 0
}
