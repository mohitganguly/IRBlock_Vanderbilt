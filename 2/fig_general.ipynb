{
 "cells": [
  {
   "cell_type": "code",
   "execution_count": 4,
   "metadata": {},
   "outputs": [
    {
     "name": "stdout",
     "output_type": "stream",
     "text": [
      "-1.1767034396575242\n"
     ]
    },
    {
     "name": "stderr",
     "output_type": "stream",
     "text": [
      "/srv/conda/envs/notebook/lib/python3.7/site-packages/ipykernel_launcher.py:41: MatplotlibDeprecationWarning: Adding an axes using the same arguments as a previous axes currently reuses the earlier instance.  In a future version, a new instance will always be created and returned.  Meanwhile, this warning can be suppressed, and the future behavior ensured, by passing a unique label to each axes instance.\n"
     ]
    },
    {
     "data": {
      "image/png": "[encoded data removed]",
      "text/plain": [
       "<Figure size 432x288 with 4 Axes>"
      ]
     },
     "metadata": {
      "needs_background": "light"
     },
     "output_type": "display_data"
    }
   ],
   "source": [
    "%matplotlib inline\n",
    "\n",
    "\n",
    "import numpy as np\n",
    "\n",
    "import matplotlib.pyplot as plt\n",
    "\n",
    "\n",
    "\n",
    "\n",
    "time = np.genfromtxt('time.csv', delimiter = ',')\n",
    "ina = np.genfromtxt('ina_HH_25.csv', delimiter = ',')\n",
    "ik = np.genfromtxt('ik_HH_25.csv', delimiter = ',')\n",
    "i = np.genfromtxt('i_HH_25.csv', delimiter = ',')\n",
    "#i = ina + ik\n",
    "temp_x = np.genfromtxt('temp_x.csv', delimiter = ',')\n",
    "#area_norm = -0.2711\n",
    "\n",
    "plt.plot(i)\n",
    "#plt.show()\n",
    "i_na = i.copy()\n",
    "i_k = i.copy()\n",
    "\n",
    "i_na[i>0]=0\n",
    "i_k[i<0]=0\n",
    "\n",
    "plt.plot(i_na)\n",
    "plt.plot(i_k)\n",
    "#plt.show()\n",
    "area_norm=np.trapz(i_na,time,dx=0.001)\n",
    "\n",
    "\n",
    "#print (area_norm)\n",
    "\n",
    "area_na = np.trapz(i_na,time,dx=0.001)/area_norm\n",
    "area_k = np.trapz(i_k,time,dx=0.001)/area_norm\n",
    "\n",
    "\n",
    "\n",
    "print (area_k/area_na)\n",
    "ax = plt.subplot(1, 1, 1)\n",
    "plt.plot(temp_x, lw = 3)\n",
    "#plt.xlim(0, 100)\n",
    "plt.ylim(0, 30)\n",
    "ax.set_xticklabels([])\n",
    "ax.set_yticklabels([])\n",
    "ax.set_xticks([])\n",
    "\n",
    "\n",
    "\n",
    "\n",
    "ax = plt.subplot(1, 4, 1)\n",
    "plt.plot(time,ina,lw=1)\n",
    "ax.set_xticklabels([])\n",
    "ax.set_yticklabels([])\n",
    "ax.set_xticks([])\n",
    "plt.ylim(-5, 5)\n",
    "plt.xlim(50, 60)\n",
    "x0,x1 = ax.get_xlim()\n",
    "y0,y1 = ax.get_ylim()\n",
    "ax.set_aspect(abs(x1-x0)/abs(y1-y0))\n",
    "\n",
    "\n",
    "\n",
    "ax = plt.subplot(1, 4, 2)\n",
    "plt.plot(time,ik,lw=1)\n",
    "ax.set_xticklabels([])\n",
    "ax.set_xticks([])\n",
    "ax.set_yticklabels([])\n",
    "plt.ylim(-5, 5)\n",
    "plt.xlim(50, 60)\n",
    "x0,x1 = ax.get_xlim()\n",
    "y0,y1 = ax.get_ylim()\n",
    "ax.set_aspect(abs(x1-x0)/abs(y1-y0))\n",
    "\n",
    "\n",
    "ax = plt.subplot(1, 4, 3)\n",
    "plt.plot(time,i,lw=1)\n",
    "ax.set_xticklabels([])\n",
    "ax.set_yticklabels([])\n",
    "ax.set_xticks([])\n",
    "plt.ylim(-5, 5)\n",
    "plt.xlim(50, 60)\n",
    "x0,x1 = ax.get_xlim()\n",
    "y0,y1 = ax.get_ylim()\n",
    "ax.set_aspect(abs(x1-x0)/abs(y1-y0))\n",
    "\n",
    "\n",
    "T = 25\n",
    "width = 2\n",
    "ax = plt.subplot(1, 4, 4)\n",
    "plt.bar(T-width,area_na, width , color = 'darkgreen')\n",
    "plt.bar(T,-area_k,  width, color='indianred')\n",
    "ax.set_xticklabels([])\n",
    "ax.set_yticklabels([])\n",
    "plt.ylim(0,5)\n",
    "ax.set_xticks([])\n",
    "x0,x1 = ax.get_xlim()\n",
    "y0,y1 = ax.get_ylim()\n",
    "ax.set_aspect(abs(x1-x0)/abs(y1-y0))\n",
    "\n",
    "\n",
    "\n",
    "#plt.savefig('HH_25.png', format = 'png', dpi = 600, bbox_inches = 'tight')\n",
    "\n",
    "\n",
    "plt.show()"
   ]
  },
  {
   "cell_type": "code",
   "execution_count": null,
   "metadata": {},
   "outputs": [],
   "source": []
  }
 ],
 "metadata": {
  "kernelspec": {
   "display_name": "Python 3",
   "language": "python",
   "name": "python3"
  },
  "language_info": {
   "codemirror_mode": {
    "name": "ipython",
    "version": 3
   },
   "file_extension": ".py",
   "mimetype": "text/x-python",
   "name": "python",
   "nbconvert_exporter": "python",
   "pygments_lexer": "ipython3",
   "version": "3.7.3"
  }
 },
 "nbformat": 4,
 "nbformat_minor": 1
}
